{
 "cells": [
  {
   "cell_type": "markdown",
   "metadata": {},
   "source": [
    "# Table of contents\n",
    "\n",
    "* [1. Intro](#1.Intro)\n",
    "  * [1.1 Who's Sicily](#1.1-Who's-Sicily)\n",
    "  * [1.2 Where to stay in Sicily](#1.2-Where-to-stay-in-Sicily)\n",
    "  * [1.3 What to expect from this notebook](#1.3-What-to-expect-from-this-notebook)\n",
    "* [2. Data exploration](#2.-Data-exploration)\n",
    "  * [2.1 Data inspection](#2.1-Data-inspection)\n",
    "  * [2.2 Where are the Airbnb homes](#2.2-Where-are-the-Airbnb-homes)\n",
    "  * [2.3 Where are the super hosts](#2.3-Where-are-the-super-hosts)\n",
    "  * [2.4 What about the verified hosts](#2.4-What-about-the-verified-hosts)\n",
    "  * [2.5 Which are the most crowded neighbourhoods](#2.5-Which-are-the-most-crowded-neighbourhoods)\n",
    "  * [2.6 Which room types are available](#2.6-Which-room-types-are-available)\n",
    "* [3. The fun part - the prices](#3.-The-fun-part---the-prices)  \n",
    "  * [3.1 Cheapest neighbourhoods](#3.1-Cheapest-neighbourhoods)\n",
    "  * [3.2 Most expensive neighbourhoods](#3.2-Most-expensive-neighbourhoods)\n",
    "  * [3.3 Prices analysis](#3.3-Prices-analysis)\n",
    "    * [3.3.1 Price distribution](#3.3.1-Price-distribution)\n",
    "    * [3.3.2 Numerical variabiles distribution](#3.3.2-Numerical-variabiles-distribution)\n",
    "  * [3.4 Add new numerical features](#3.4-Add-new-numerical-features)  \n",
    "* [4. Correlations](#4.-Correlations)\n",
    "  * [4.1 Numerical data correlations](#4.1-Numerical-data-correlations)\n",
    "  * [4.2 Categorical data](#4.2-Categorical-data)\n",
    "* [5. Another way to determine feature's impact on price](#5.-Another-way-to-determine-feature's-impact-on-price)  \n",
    "* [6. Show me the future](#6.-Show-me-the-future)\n",
    "  * [6.1 Listings available by day](#6.1-Listings-available-by-day)\n",
    "  * [6.2 Average price by day](#6.2-Average-price-by-day)\n",
    "* [7. What people say about Airbnb homes in Sicily](#7.-What-people-say-about-Airbnb-homes-in-Sicily) \n",
    "  * [7.1 Hosts with most reviews](#7.1-Hosts-with-most-reviews)\n",
    "  * [7.2 Take me to the clouds](#7.2-Take-me-to-the-clouds)\n",
    "* [8. Take aways](#8.-Take-aways)"
   ]
  },
  {
   "cell_type": "markdown",
   "metadata": {},
   "source": [
    "## 1. Intro"
   ]
  },
  {
   "cell_type": "code",
   "execution_count": null,
   "metadata": {},
   "outputs": [],
   "source": [
    "# load image from local storage\n",
    "from IPython.display import Image\n",
    "print('**Trinacria, symbol of Sicily**')\n",
    "Image(filename = \"/home/jovyan/work/analysis/DSNanodegree/Sicilia/pics/flag.png\", retina=True, unconfined=True)"
   ]
  },
  {
   "cell_type": "markdown",
   "metadata": {},
   "source": [
    "By Myriam Thyes / Klone123 - Own work, Public Domain, https://commons.wikimedia.org/w/index.php?curid=19634515"
   ]
  },
  {
   "cell_type": "markdown",
   "metadata": {},
   "source": [
    "### 1.1 Who's Sicily"
   ]
  },
  {
   "cell_type": "markdown",
   "metadata": {},
   "source": [
    "According to <a href =\"https://en.wikipedia.org/wiki/Sicily\">Wikipedia</a> :\n",
    "\n",
    "Sicily (Italian: Sicilia [siˈtʃiːlja]; Sicilian: Sicilia [sɪˈʃiːlja]) is the largest island in the Mediterranean Sea and one of the 20 regions of Italy. The region has 5 million inhabitants. Its capital city is Palermo.\n",
    "\n",
    "Sicily is in the central Mediterranean Sea, south of the Italian Peninsula, from which it is separated by the narrow Strait of Messina. Its most prominent landmark is Mount Etna, the tallest active volcano in Europe,[5] and one of the most active in the world, currently 3,329 m (10,922 ft) high. The island has a typical Mediterranean climate.\n",
    "\n",
    "The earliest archaeological evidence of human activity on the island dates from as early as 12,000 BC.[6][7] By around 750 BC, Sicily had three Phoenician and a dozen Greek colonies and it was later the site of the Sicilian Wars and the Punic Wars. After the fall of the Roman Empire in the 5th century AD, Sicily was ruled during the Early Middle Ages by the Vandals, the Ostrogoths, the Byzantine Empire, and the Emirate of Sicily. The Norman conquest of southern Italy led to the creation of the County of Sicily in 1071, that was succeeded by Kingdom of Sicily, a state that existed from 1130 until 1816.[8][9] Later, it was unified under the House of Bourbon with the Kingdom of Naples as the Kingdom of the Two Sicilies. The island became part of Italy in 1860 following the Expedition of the Thousand, a revolt led by Giuseppe Garibaldi during the Italian unification, and a plebiscite. Sicily was given special status as an autonomous region on 15 May 1946, 18 days before the Italian institutional referendum of 1946.\n",
    "\n",
    "Sicily has a rich and unique culture, especially with regard to the arts, music, literature, cuisine, and architecture. It is also home to important archaeological and ancient sites, such as the Necropolis of Pantalica, the Valley of the Temples, Erice and Selinunte. Byzantine, Arab, Roman and Norman rule over Sicily has led to a blend of cultural influences."
   ]
  },
  {
   "cell_type": "markdown",
   "metadata": {},
   "source": [
    "From my point of view, Sicily is a wonderful island, which I explored a bit on bicycle and where I would return at any time.\n",
    "Here are some pictures from my trip. "
   ]
  },
  {
   "cell_type": "code",
   "execution_count": null,
   "metadata": {},
   "outputs": [],
   "source": [
    "print(\"**View from Monte Veneretta, near Taormina**\")\n",
    "Image(filename = \"/home/jovyan/work/analysis/DSNanodegree/Sicilia/pics/DSC06681.JPG\")"
   ]
  },
  {
   "cell_type": "code",
   "execution_count": null,
   "metadata": {
    "scrolled": false
   },
   "outputs": [],
   "source": [
    "print(\"**Road towards Mount Etna**\")\n",
    "Image(filename = \"/home/jovyan/work/analysis/DSNanodegree/Sicilia/pics/DSC07749.JPG\")"
   ]
  },
  {
   "cell_type": "markdown",
   "metadata": {},
   "source": [
    "<a href=\"http://www.regione.sicilia.it/beniculturali/dirbenicult/database/page_musei/pagina_musei.asp?ID=55&IdSito=75\">Syracuse archeological museum</a> "
   ]
  },
  {
   "cell_type": "code",
   "execution_count": null,
   "metadata": {},
   "outputs": [],
   "source": [
    "Image(filename = \"/home/jovyan/work/analysis/DSNanodegree/Sicilia/pics/DSC08343.JPG\")"
   ]
  },
  {
   "cell_type": "markdown",
   "metadata": {},
   "source": [
    "### 1.2 Where to stay in Sicily"
   ]
  },
  {
   "cell_type": "markdown",
   "metadata": {},
   "source": [
    "In this notebook, we'll explore data from the **AirBNB homes**. \n",
    "<br>\n",
    "The loveliest place I've stayed in Sicily was this mountain hut at 1820m altitude, called Rifugio Timparossa, but I definitely have a special taste regarding comfort 🙊\n",
    "<br>\n",
    "So, better trust the data, not myself! 🤫\n",
    "<br>\n"
   ]
  },
  {
   "cell_type": "code",
   "execution_count": null,
   "metadata": {
    "scrolled": false
   },
   "outputs": [],
   "source": [
    "Image(filename = \"/home/jovyan/work/analysis/DSNanodegree/Sicilia/pics/DSC07898.JPG\")"
   ]
  },
  {
   "cell_type": "markdown",
   "metadata": {},
   "source": [
    "### 1.3 What to expect from this notebook \n",
    "\n",
    "Udacity's team suggested the folowing directions:\n",
    "<br>\n",
    "- understand how much AirBNB homes are earning in certain time frames and areas\n",
    "- compare rates between some cities\n",
    "- try to understand if there is anything about the properties that helps predict the price\n",
    "- find negative and positive reviews based on text\n",
    "\n",
    "What I've managed to do so far:\n",
    "<br>\n",
    "- where to find an AirBNB home in Sicily\n",
    "- how are the prices distributed\n",
    "- which are the cheapest/most expensive neigbourhoods\n",
    "- which room types are available\n",
    "- who and where are the hosts with most reviews\n",
    "- where are the verified hosts or the super-hosts\n",
    "- how are the features of a home correlated\n",
    "- how much a feature impacts the price of a property\n",
    "- are the prices higher during the summer \n",
    "- are the properties available in the future\n",
    "- a basic exploration of what people say about the places they've been to"
   ]
  },
  {
   "cell_type": "markdown",
   "metadata": {
    "_cell_guid": "f85adc08-915d-b0fc-4789-e7793242dceb"
   },
   "source": [
    "## 2. Data exploration"
   ]
  },
  {
   "cell_type": "markdown",
   "metadata": {},
   "source": [
    "### Setup\n",
    "\n",
    " - install needed packages\n",
    " - load packages and functions used next\n",
    " - set working directory"
   ]
  },
  {
   "cell_type": "code",
   "execution_count": null,
   "metadata": {
    "scrolled": false
   },
   "outputs": [],
   "source": [
    "# install needed packages\n",
    "# !pip install datatable\n",
    "# !pip install plotly\n",
    "# !pip install pycomp\n",
    "# !pip install missingno\n",
    "# !pip install folium\n",
    "# !pip install cufflinks\n",
    "# !pip install wordcloud\n",
    "# !pip install --upgrade nbformat\n",
    "# !pip install nltk"
   ]
  },
  {
   "cell_type": "code",
   "execution_count": null,
   "metadata": {},
   "outputs": [],
   "source": [
    "# load packages and functions used next\n",
    "from tools.setup import *"
   ]
  },
  {
   "cell_type": "code",
   "execution_count": null,
   "metadata": {},
   "outputs": [],
   "source": [
    "## working directory\n",
    "wkdir = '/home/jovyan/work/analysis/DSNanodegree/Sicilia/'"
   ]
  },
  {
   "cell_type": "code",
   "execution_count": null,
   "metadata": {
    "_cell_guid": "dfd627dc-a88c-19e0-999c-4973d02f513a"
   },
   "outputs": [],
   "source": [
    "%matplotlib inline"
   ]
  },
  {
   "cell_type": "markdown",
   "metadata": {},
   "source": [
    "### 2.1 Data inspection"
   ]
  },
  {
   "cell_type": "markdown",
   "metadata": {},
   "source": [
    "<!-- ![](https://media.giphy.com/media/10zsjaH4g0GgmY/giphy.gif) -->\n",
    "![](https://media.giphy.com/media/3o6wO73fTsx2bkmiqY/giphy.gif)"
   ]
  },
  {
   "cell_type": "markdown",
   "metadata": {},
   "source": [
    "### Read data\n",
    "- read available tables\n",
    "- print head of each table\n",
    "- count non null values of each variable"
   ]
  },
  {
   "cell_type": "code",
   "execution_count": null,
   "metadata": {},
   "outputs": [],
   "source": [
    "# small data, better for visualisations\n",
    "s_listings = dtbl.fread(wkdir + \"/data/small/listings.csv\").to_pandas()\n",
    "s_neighbourhoods = dtbl.fread(wkdir + \"/data/small/neighbourhoods.csv\").to_pandas()\n",
    "s_reviews = dtbl.fread(wkdir + \"/data/small/reviews.csv\").to_pandas()\n",
    "\n",
    "## detailed data\n",
    "d_listings = dtbl.fread(wkdir + \"/data/detailed/listings.csv\").to_pandas()\n",
    "d_reviews = dtbl.fread(wkdir + \"/data/detailed/reviews.csv\").to_pandas()\n",
    "d_calendar = dtbl.fread(wkdir + \"/data/detailed/calendar.csv\").to_pandas()"
   ]
  },
  {
   "cell_type": "code",
   "execution_count": null,
   "metadata": {},
   "outputs": [],
   "source": [
    "print(\"**home listings - small version**\")\n",
    "s_listings.head(3).style.hide_index()"
   ]
  },
  {
   "cell_type": "code",
   "execution_count": null,
   "metadata": {},
   "outputs": [],
   "source": [
    "s_listings.count()"
   ]
  },
  {
   "cell_type": "code",
   "execution_count": null,
   "metadata": {},
   "outputs": [],
   "source": [
    "print(\"**home listings - detailed version**\")\n",
    "d_listings.head(1)"
   ]
  },
  {
   "cell_type": "code",
   "execution_count": null,
   "metadata": {},
   "outputs": [],
   "source": [
    "d_listings.count()"
   ]
  },
  {
   "cell_type": "code",
   "execution_count": null,
   "metadata": {},
   "outputs": [],
   "source": [
    "print(\"**reviews - small version**\")\n",
    "s_reviews.head(3).style.hide_index()"
   ]
  },
  {
   "cell_type": "code",
   "execution_count": null,
   "metadata": {},
   "outputs": [],
   "source": [
    "s_reviews.count()"
   ]
  },
  {
   "cell_type": "code",
   "execution_count": null,
   "metadata": {},
   "outputs": [],
   "source": [
    "print(\"**reviews - detailed version**\")\n",
    "d_reviews.head(3).style.hide_index()"
   ]
  },
  {
   "cell_type": "code",
   "execution_count": null,
   "metadata": {},
   "outputs": [],
   "source": [
    "d_reviews.count()"
   ]
  },
  {
   "cell_type": "code",
   "execution_count": null,
   "metadata": {},
   "outputs": [],
   "source": [
    "print(\"**neighbourhoods - small version**\")\n",
    "s_neighbourhoods.head(3)"
   ]
  },
  {
   "cell_type": "code",
   "execution_count": null,
   "metadata": {},
   "outputs": [],
   "source": [
    "s_neighbourhoods.count()"
   ]
  },
  {
   "cell_type": "code",
   "execution_count": null,
   "metadata": {},
   "outputs": [],
   "source": [
    "inspect_missing_data(s_neighbourhoods)"
   ]
  },
  {
   "cell_type": "markdown",
   "metadata": {},
   "source": [
    "So, the table of neighbourhoods is useless! "
   ]
  },
  {
   "cell_type": "code",
   "execution_count": null,
   "metadata": {
    "scrolled": true
   },
   "outputs": [],
   "source": [
    "print(\"**calendar**\")\n",
    "d_calendar.head(3)"
   ]
  },
  {
   "cell_type": "code",
   "execution_count": null,
   "metadata": {},
   "outputs": [],
   "source": [
    "d_calendar.count()"
   ]
  },
  {
   "cell_type": "markdown",
   "metadata": {},
   "source": [
    "**From now on we'll use only the table d_listings, with the detailed informations of all listings.**\n",
    "<br>\n",
    "When we'll use another table, it will be mentioned. "
   ]
  },
  {
   "cell_type": "markdown",
   "metadata": {},
   "source": [
    "### Inspect missing values"
   ]
  },
  {
   "cell_type": "code",
   "execution_count": null,
   "metadata": {},
   "outputs": [],
   "source": [
    "inspect_missing_data(d_listings)"
   ]
  },
  {
   "cell_type": "code",
   "execution_count": null,
   "metadata": {},
   "outputs": [],
   "source": [
    "missing_data = d_listings.isna().sum().reset_index().sort_values(by=0, ascending=False)\n",
    "missing_data.columns = [\"name\", \"missing_appearences\"]\n",
    "missing = missing_data[missing_data['missing_appearences'] != 0]"
   ]
  },
  {
   "cell_type": "code",
   "execution_count": null,
   "metadata": {},
   "outputs": [],
   "source": [
    "plt.figure(figsize=(12, 8));\n",
    "sns.barplot(y='name', x='missing_appearences', data=missing);\n",
    "plt.xlabel('')\n",
    "plt.ylabel('')\n",
    "plt.tick_params(axis='both', labelsize=12)\n",
    "plt.title('Missing data\\n', weight=\"bold\", fontsize=16);"
   ]
  },
  {
   "cell_type": "code",
   "execution_count": null,
   "metadata": {},
   "outputs": [],
   "source": [
    "print(\"**features to drop from further analysis:**\")\n",
    "## drop variables with 100% nulls\n",
    "to_drop = missing[:3].name.to_list()\n",
    "to_drop"
   ]
  },
  {
   "cell_type": "markdown",
   "metadata": {},
   "source": [
    "### How much data do we have"
   ]
  },
  {
   "cell_type": "code",
   "execution_count": null,
   "metadata": {},
   "outputs": [],
   "source": [
    "print('{} hosts and {} features about their properties'.format(d_listings.shape[0], d_listings.shape[1]))\n",
    "print('{} reviews for {} unique homes'.format(len(d_reviews), len(d_reviews.groupby('listing_id').count())))\n",
    "print('{} unique neighbourhoods'.format(len(d_listings.neighbourhood_cleansed.unique())))\n",
    "print(\"{} calendar dates with future availabilty of the property\".format(len(d_calendar)))"
   ]
  },
  {
   "cell_type": "markdown",
   "metadata": {},
   "source": [
    "### What's a feature about"
   ]
  },
  {
   "cell_type": "markdown",
   "metadata": {},
   "source": [
    "Some descriptive informations about the property:\n",
    "\n",
    "- name, description\n",
    "- location : map coordinates - latitude and longitude, neighbourhood\n",
    "- property and room type\n",
    "- price\n",
    "- reviews and ratings for cleanliness, location, communication, checkin, value\n",
    "- availability\n",
    "- minimum/maximum nights\n",
    "- beds, bathrooms, amenities\n",
    "- host : name, response time or rate, acceptance rate, is superhost, has identity verified\n",
    "- instant bookable\n",
    "- license\n",
    "- urls: listing(the property), picture, host \n",
    "- scraping"
   ]
  },
  {
   "cell_type": "markdown",
   "metadata": {},
   "source": [
    "**quantitative features**"
   ]
  },
  {
   "cell_type": "code",
   "execution_count": null,
   "metadata": {},
   "outputs": [],
   "source": [
    "quantitative = [f for f in d_listings.columns if d_listings.dtypes[f] != 'object']\n",
    "## remove ids from the quantitative features\n",
    "ids = [f for f in d_listings.columns if 'id' in f]\n",
    "for c in ['id', 'scrape_id', 'host_id', 'latitude', 'longitude']:\n",
    "    quantitative.remove(c)\n",
    "quantitative    "
   ]
  },
  {
   "cell_type": "markdown",
   "metadata": {},
   "source": [
    "**qualitative features**\n",
    "<br>\n",
    "- remove from the qualitative features: names, descriptions, urls, scraping informations, dates, null variables "
   ]
  },
  {
   "cell_type": "code",
   "execution_count": null,
   "metadata": {},
   "outputs": [],
   "source": [
    "urls = [c for c in d_listings.columns if 'url' in c]\n",
    "names = [c for c in d_listings.columns if 'name' in c]\n",
    "scrap = ['last_scraped', 'calendar_last_scraped']\n",
    "desc = ['description', 'host_about', 'neighborhood_overview', 'license']\n",
    "dates = ['host_since', 'first_review', 'last_review']\n",
    "nulls = to_drop\n",
    "qual_to_drop = urls + names + desc + scrap + nulls + dates\n",
    "print('**features droped:**')\n",
    "qual_to_drop"
   ]
  },
  {
   "cell_type": "code",
   "execution_count": null,
   "metadata": {},
   "outputs": [],
   "source": [
    "qualitative = [f for f in d_listings.columns if d_listings.dtypes[f] == 'object']\n",
    "for c in qual_to_drop:\n",
    "    qualitative.remove(c)\n",
    "print('**features kept:**')\n",
    "qualitative    "
   ]
  },
  {
   "cell_type": "markdown",
   "metadata": {},
   "source": [
    "### 2.2 Where are the Airbnb homes\n",
    "<br>\n",
    "We'll use the map coordinates, latitude and longitude, to plot a heat map of the AirBnb homes available.\n",
    "<br>\n",
    "Zoom in to see the names of the little islands or other cities."
   ]
  },
  {
   "cell_type": "code",
   "execution_count": null,
   "metadata": {},
   "outputs": [],
   "source": [
    "coordinates = ['latitude','longitude']\n",
    "d_listings[coordinates].describe()"
   ]
  },
  {
   "cell_type": "code",
   "execution_count": null,
   "metadata": {},
   "outputs": [],
   "source": [
    "fm = folium.Map(d_listings[coordinates].mean().to_list(), zoom_start=8)\n",
    "HeatMap(d_listings[coordinates].dropna(),\n",
    "        radius=8, \n",
    "        gradient={0.2:'blue',0.4:'purple',0.6:'orange',1.0:'red'}).add_to(fm)\n",
    "display(fm)"
   ]
  },
  {
   "cell_type": "markdown",
   "metadata": {},
   "source": [
    "The properties are all over the island, but also in the little islands near by, like Isola di Pantelleria or Lampedusa.\n",
    "<br>\n",
    "Most of them are near the coast, in the big cities like Palermo, the capital city, but also in Catania, Siracusa, Ragusa Agrigento and Trapani. \n",
    "<br>\n",
    "There's no surprise that the properties are in the places to see when going to Sicily. 😎"
   ]
  },
  {
   "cell_type": "markdown",
   "metadata": {},
   "source": [
    "### 2.3 Where are the super hosts"
   ]
  },
  {
   "cell_type": "markdown",
   "metadata": {},
   "source": [
    "If you want to be really picky, try only the super hosts, although the options are not that many and I don't actually know what a super host is 😀 "
   ]
  },
  {
   "cell_type": "code",
   "execution_count": null,
   "metadata": {},
   "outputs": [],
   "source": [
    "d_listings.loc[d_listings.host_is_superhost=='t', 'host_type'] = 'super host'\n",
    "d_listings.loc[d_listings.host_is_superhost=='f', 'host_type'] = 'normal host'\n",
    "d_listings.loc[d_listings.host_is_superhost.isna(), 'host_type'] = 'NA'"
   ]
  },
  {
   "cell_type": "code",
   "execution_count": null,
   "metadata": {},
   "outputs": [],
   "source": [
    "value_cnts(d_listings, ['host_type']).style.hide_index().background_gradient(cmap='Pastel1_r')  "
   ]
  },
  {
   "cell_type": "code",
   "execution_count": null,
   "metadata": {},
   "outputs": [],
   "source": [
    "plt.figure(figsize=(12,8), dpi = 100)\n",
    "sns.scatterplot(d_listings.longitude,\n",
    "                d_listings.latitude,\n",
    "                hue = d_listings.host_type)\n",
    "plt.title('Super hosts\\n', weight=\"bold\", fontsize=14)\n",
    "plt.show()"
   ]
  },
  {
   "cell_type": "markdown",
   "metadata": {},
   "source": [
    "### 2.4 What about the verified hosts"
   ]
  },
  {
   "cell_type": "markdown",
   "metadata": {},
   "source": [
    "You might also want to go to verified hosts only, but it's a matter of confidence and time of the year, when you'll have to choose what's available."
   ]
  },
  {
   "cell_type": "code",
   "execution_count": null,
   "metadata": {},
   "outputs": [],
   "source": [
    "d_listings.loc[d_listings.host_identity_verified=='t', 'host_identity'] = 'verified'\n",
    "d_listings.loc[d_listings.host_identity_verified=='f', 'host_identity'] = 'unverified'\n",
    "d_listings.loc[d_listings.host_identity_verified.isna(), 'host_identity'] = 'NA'"
   ]
  },
  {
   "cell_type": "code",
   "execution_count": null,
   "metadata": {},
   "outputs": [],
   "source": [
    "value_cnts(d_listings, ['host_identity']).style.hide_index().background_gradient(cmap='Pastel1_r')  "
   ]
  },
  {
   "cell_type": "code",
   "execution_count": null,
   "metadata": {
    "scrolled": false
   },
   "outputs": [],
   "source": [
    "plt.figure(figsize=(12,8), dpi = 100)\n",
    "sns.scatterplot(d_listings.longitude,\n",
    "                d_listings.latitude,\n",
    "                hue = d_listings.host_identity)\n",
    "plt.title(\"Host's identity\\n\", weight=\"bold\", fontsize=14)\n",
    "plt.show()"
   ]
  },
  {
   "cell_type": "code",
   "execution_count": null,
   "metadata": {},
   "outputs": [],
   "source": [
    "## add these features\n",
    "qualitative = qualitative + ['host_type', 'host_identity']"
   ]
  },
  {
   "cell_type": "markdown",
   "metadata": {},
   "source": [
    "### 2.5 Which are the most crowded neighbourhoods"
   ]
  },
  {
   "cell_type": "markdown",
   "metadata": {},
   "source": [
    "There are two variables for the neighbourhood, let's see which one is best to keep."
   ]
  },
  {
   "cell_type": "code",
   "execution_count": null,
   "metadata": {
    "scrolled": false
   },
   "outputs": [],
   "source": [
    "display_side_by_side(value_cnts(d_listings, ['neighbourhood']).head(10), value_cnts(d_listings, ['neighbourhood_cleansed']).head(10))"
   ]
  },
  {
   "cell_type": "markdown",
   "metadata": {},
   "source": [
    "Looks like neighbourhood has 43% of missing values, so we'll drop it, keep only neighbourhood_cleansed and rename it neighbourhood. We'll also remove this feature from the list of qualitative features."
   ]
  },
  {
   "cell_type": "code",
   "execution_count": null,
   "metadata": {},
   "outputs": [],
   "source": [
    "## keep the column about neighbourhoods without nulls\n",
    "d_listings.drop('neighbourhood', axis=1, inplace=True)\n",
    "d_listings.rename(columns={'neighbourhood_cleansed':'neighbourhood'}, inplace=True)\n",
    "qualitative.remove('neighbourhood_cleansed')"
   ]
  },
  {
   "cell_type": "code",
   "execution_count": null,
   "metadata": {},
   "outputs": [],
   "source": [
    "neighbourhood_cnt = value_cnts(d_listings, ['neighbourhood'])\n",
    "\n",
    "def absolute_value(val):\n",
    "    a  = round(val/100.*sizes.sum(), 0)\n",
    "    return a\n",
    "\n",
    "# Data to plot\n",
    "labels = neighbourhood_cnt.neighbourhood[0:10]\n",
    "sizes = neighbourhood_cnt['count'][0:10]\n",
    "# Plot\n",
    "plt.figure(figsize=(8,8))\n",
    "plt.pie(sizes, labels=labels, shadow=True, startangle=230, counterclock=False, autopct=absolute_value)\n",
    "plt.axis('equal')\n",
    "plt.title('Top 10 neighbourhoods by number of AirBnb homes available\\n', weight=\"bold\", fontsize=16)\n",
    "plt.show()"
   ]
  },
  {
   "cell_type": "markdown",
   "metadata": {},
   "source": [
    "### 2.6 Which room types are available"
   ]
  },
  {
   "cell_type": "code",
   "execution_count": null,
   "metadata": {},
   "outputs": [],
   "source": [
    "p_types = value_cnts(d_listings, ['property_type'])[:10]['property_type'].to_list()\n",
    "d_listings.loc[d_listings.property_type.isin(p_types)!=True,'property_type_cleansed'] = 'Other'\n",
    "d_listings.loc[d_listings.property_type.isin(p_types)==True,'property_type_cleansed'] = d_listings['property_type']"
   ]
  },
  {
   "cell_type": "code",
   "execution_count": null,
   "metadata": {},
   "outputs": [],
   "source": [
    "## keep only the variable about property type with less category values \n",
    "d_listings.drop('property_type', axis=1, inplace=True)\n",
    "d_listings.rename(columns={'property_type_cleansed':'property_type'}, inplace=True)"
   ]
  },
  {
   "cell_type": "code",
   "execution_count": null,
   "metadata": {},
   "outputs": [],
   "source": [
    "rooms = value_cnts(d_listings, ['room_type'])\n",
    "rooms.style.hide_index().background_gradient(cmap='Pastel1_r')  "
   ]
  },
  {
   "cell_type": "code",
   "execution_count": null,
   "metadata": {},
   "outputs": [],
   "source": [
    "properties = value_cnts(d_listings, ['property_type']).head(10)\n",
    "properties.style.hide_index().background_gradient(cmap='Pastel1_r')  "
   ]
  },
  {
   "cell_type": "code",
   "execution_count": null,
   "metadata": {},
   "outputs": [],
   "source": [
    "fig, ax = plt.subplots(figsize = (10, 10))\n",
    "ax.axis('equal')\n",
    "width = 0.3\n",
    "## exterior pie\n",
    "pie, _ = ax.pie(rooms['count'], \n",
    "                radius=1, \n",
    "                labels=rooms.room_type)\n",
    "plt.setp(pie, width=width, edgecolor='white')\n",
    "## interior pie\n",
    "pie2, _ = ax.pie(properties['count'], \n",
    "                 radius=1-width, \n",
    "                 labels=properties.property_type, labeldistance=0.7)\n",
    "plt.setp(pie2, width=width, edgecolor='white')\n",
    "plt.title('Room & property types on AirBnb', weight=\"bold\", fontsize=16)\n",
    "plt.show()"
   ]
  },
  {
   "cell_type": "markdown",
   "metadata": {},
   "source": [
    "Seems like you get mostly the entire home or apartment, which is great!"
   ]
  },
  {
   "cell_type": "markdown",
   "metadata": {},
   "source": [
    "## 3. The fun part - the prices"
   ]
  },
  {
   "cell_type": "markdown",
   "metadata": {},
   "source": [
    "![](https://media.giphy.com/media/67ThRZlYBvibtdF9JH/giphy.gif)"
   ]
  },
  {
   "cell_type": "markdown",
   "metadata": {},
   "source": [
    "**The mean price for our Airbnb homes is 95 dollars, the median is 60 -> the data is highly skewed, but 75% of prices are below 93$** "
   ]
  },
  {
   "cell_type": "code",
   "execution_count": null,
   "metadata": {},
   "outputs": [],
   "source": [
    "d_listings.price.describe().to_frame().T"
   ]
  },
  {
   "cell_type": "markdown",
   "metadata": {},
   "source": [
    "### 3.1 Cheapest neighbourhoods "
   ]
  },
  {
   "cell_type": "markdown",
   "metadata": {},
   "source": [
    "**regardless of the number of AirBnb homes available**"
   ]
  },
  {
   "cell_type": "code",
   "execution_count": null,
   "metadata": {},
   "outputs": [],
   "source": [
    "cheap = d_listings.groupby('neighbourhood').price.describe().reset_index()\n",
    "cheap.sort_values(by='50%', ascending=True).head(10)"
   ]
  },
  {
   "cell_type": "markdown",
   "metadata": {},
   "source": [
    "**with at least 100 AirBnb homes available**"
   ]
  },
  {
   "cell_type": "code",
   "execution_count": null,
   "metadata": {},
   "outputs": [],
   "source": [
    "cheap10 = cheap[cheap['count']>100].sort_values(by='50%', ascending=True).head(10)\n",
    "cheap10"
   ]
  },
  {
   "cell_type": "code",
   "execution_count": null,
   "metadata": {},
   "outputs": [],
   "source": [
    "plt.figure(figsize=(12, 6));\n",
    "sns.barplot(y='neighbourhood', x='50%', data=cheap10);\n",
    "plt.xlabel('price($)', weight=\"bold\", fontsize=12)\n",
    "plt.ylabel('', weight=\"bold\", fontsize=12)\n",
    "plt.tick_params(axis='both', labelsize=12)\n",
    "plt.title('Cheapest neighbourhoods by median price, with at least 100 AirBnb homes available\\n', weight=\"bold\", fontsize=16);"
   ]
  },
  {
   "cell_type": "markdown",
   "metadata": {},
   "source": [
    "### 3.2 Most expensive neighbourhoods"
   ]
  },
  {
   "cell_type": "markdown",
   "metadata": {},
   "source": [
    "**regardless of the number of AirBnb homes available**"
   ]
  },
  {
   "cell_type": "code",
   "execution_count": null,
   "metadata": {},
   "outputs": [],
   "source": [
    "pricy = d_listings.groupby('neighbourhood').price.describe().reset_index()\n",
    "pricy.sort_values(by='50%', ascending=False).head(10)"
   ]
  },
  {
   "cell_type": "markdown",
   "metadata": {},
   "source": [
    "**with at least 100 AirBnb homes available**"
   ]
  },
  {
   "cell_type": "code",
   "execution_count": null,
   "metadata": {},
   "outputs": [],
   "source": [
    "pricy10 = pricy[pricy['count']>100].sort_values(by='50%', ascending=False).head(10)\n",
    "pricy10"
   ]
  },
  {
   "cell_type": "code",
   "execution_count": null,
   "metadata": {},
   "outputs": [],
   "source": [
    "plt.figure(figsize=(12, 6));\n",
    "sns.barplot(y='neighbourhood', x='50%', data=pricy10);\n",
    "plt.xlabel('price($)', weight=\"bold\", fontsize=12)\n",
    "plt.ylabel('', weight=\"bold\", fontsize=12)\n",
    "plt.tick_params(axis='both', labelsize=12)\n",
    "plt.title('Most expensive neighbourhoods by median price, with at least 100 AirBnb homes available\\n', \n",
    "          weight=\"bold\", fontsize=16);"
   ]
  },
  {
   "cell_type": "markdown",
   "metadata": {},
   "source": [
    "**It's not a surprise for me that Taormina, Trecastagni and Noto are the most expensive places, but I can assure you that they worth it!** "
   ]
  },
  {
   "cell_type": "markdown",
   "metadata": {},
   "source": [
    "### 3.3 Prices analysis"
   ]
  },
  {
   "cell_type": "markdown",
   "metadata": {},
   "source": [
    "Let's see now if we can predict the price and which are the features that have a major impact on it."
   ]
  },
  {
   "cell_type": "markdown",
   "metadata": {},
   "source": [
    "### 3.3.1 Price distribution"
   ]
  },
  {
   "cell_type": "code",
   "execution_count": null,
   "metadata": {
    "_cell_guid": "8986d183-2fe3-fc8f-19d1-c4fc98eabb82"
   },
   "outputs": [],
   "source": [
    "y = s_listings.price\n",
    "\n",
    "plt.figure(figsize=(8,4));plt.title('Johnson SU',weight=\"bold\", fontsize=12)\n",
    "sns.distplot(y, kde=False, fit=st.johnsonsu)\n",
    "plt.figure(figsize=(8,4)); plt.title('Normal', weight=\"bold\", fontsize=12)\n",
    "sns.distplot(y, kde=False, fit=st.norm)\n",
    "plt.figure(figsize=(8,4)); plt.title('Log Normal', weight=\"bold\", fontsize=12)\n",
    "sns.distplot(y, kde=False, fit=st.lognorm)\n",
    "plt.show()"
   ]
  },
  {
   "cell_type": "markdown",
   "metadata": {
    "_cell_guid": "e5ef71e3-c595-7444-98ac-f7759eba46fa"
   },
   "source": [
    "**It is obvious that price feature doesn't follow a normal distribution, so before performing regression it has to be transformed. Best fits are the log transformation and unbounded Johnson distribution.**"
   ]
  },
  {
   "cell_type": "markdown",
   "metadata": {},
   "source": [
    "### 3.3.2 Numerical variabiles distribution"
   ]
  },
  {
   "cell_type": "markdown",
   "metadata": {},
   "source": [
    "It's not the scope of this notebook, but for more detailed information about what's next, take a look at <a href=\"https://towardsdatascience.com/normality-tests-in-python-31e04aa4f411\">10 Normality Tests in Python</a>. "
   ]
  },
  {
   "cell_type": "markdown",
   "metadata": {},
   "source": [
    "**Normality tests**"
   ]
  },
  {
   "cell_type": "code",
   "execution_count": null,
   "metadata": {},
   "outputs": [],
   "source": [
    "rows = []\n",
    "for c in quantitative:      \n",
    "    data = d_listings[c].copy()\n",
    "    #     Shapiro-Wilk Test\n",
    "    p1 = shapiro(data)[1]\n",
    "    if p1> 0.05:\n",
    "        s = True\n",
    "    else:\n",
    "        s = False \n",
    "    #     D’Agostino’s K-squared test    \n",
    "    p2 = normaltest(data)[1]\n",
    "    if p2> 0.05:\n",
    "        ag = True\n",
    "    else:\n",
    "        ag = False \n",
    "    #     Chi-Square Normality Test \n",
    "    p4 = chisquare(data)[1]\n",
    "    if p4> 0.05:\n",
    "        chi = True\n",
    "    else:\n",
    "        chi = False\n",
    "    #     Lilliefors Test for Normality\n",
    "    p5 = lilliefors(data)[1]\n",
    "    if p5> 0.05:\n",
    "        l = True\n",
    "    else:\n",
    "        l = False \n",
    "    #     Jarque–Bera test    \n",
    "    p6 = jarque_bera(data)[1]\n",
    "    if p6> 0.05:\n",
    "        jb = True\n",
    "    else:\n",
    "        jb = False \n",
    "    #    Kolmogorov-Smirnov\n",
    "    p7 = kstest(data, \"norm\")[1]\n",
    "    if p7> 0.05:\n",
    "        ks = True\n",
    "    else:\n",
    "        ks = False    \n",
    "    \n",
    "    rows.append([c, s, ag, chi, l, jb, ks])\n",
    "gaussian = pd.DataFrame(rows, columns=[\"feature\", \"Shapiro\", \"D'Agostino\", \"Chi-square\", \"Lilliefors\", \"Jarque\", \"Kolmogorov\"])     "
   ]
  },
  {
   "cell_type": "code",
   "execution_count": null,
   "metadata": {},
   "outputs": [],
   "source": [
    "gaussian.style.hide_index()"
   ]
  },
  {
   "cell_type": "markdown",
   "metadata": {
    "_cell_guid": "b3c12438-3a35-d39a-c0ed-e90c958d94b6"
   },
   "source": [
    "All tests, apart Shapiro's, tell us that none of the quantitative variables has a normal distribution, so these should be transformed as well for further modelling purpose. Let's see their distribution along with a log-normal distribution fit."
   ]
  },
  {
   "cell_type": "code",
   "execution_count": null,
   "metadata": {
    "scrolled": false
   },
   "outputs": [],
   "source": [
    "def distplot(y, **kwargs):\n",
    "    sns.distplot(y, kde=False, fit=st.lognorm)\n",
    "    \n",
    "f = pd.melt(d_listings, value_vars=quantitative)\n",
    "g = sns.FacetGrid(f, col=\"variable\",  col_wrap=3, sharex=False, sharey=False, height=5)\n",
    "g = g.map(distplot, \"value\")"
   ]
  },
  {
   "cell_type": "markdown",
   "metadata": {},
   "source": [
    "Some independent variables look like good candidates for log transformation: 'host_listings_count', 'host_total_listings_count', 'calculated_host_listings_count', 'calculated_host_listings_count_entire_homes', 'reviews_per_month', 'number_of_reviews', 'number_of_reviews_ltm', 'beds'"
   ]
  },
  {
   "cell_type": "markdown",
   "metadata": {},
   "source": [
    "### 3.4 Add new numerical features"
   ]
  },
  {
   "cell_type": "code",
   "execution_count": null,
   "metadata": {},
   "outputs": [],
   "source": [
    "d_listings[dates].head().style.hide_index()"
   ]
  },
  {
   "cell_type": "code",
   "execution_count": null,
   "metadata": {
    "scrolled": false
   },
   "outputs": [],
   "source": [
    "## replace missing date from host_since with a \"median\" date\n",
    "d_listings.loc[d_listings['host_since']=='', ['host_since']] = '1/1/2014'\n",
    "## Make host_since a numerical variable\n",
    "d_listings['days_on_site'] = (dt.datetime.now() - pd.to_datetime(d_listings['host_since'], format = '%m/%d/%Y')).dt.days"
   ]
  },
  {
   "cell_type": "code",
   "execution_count": null,
   "metadata": {},
   "outputs": [],
   "source": [
    "def hist(var, title):\n",
    "    plt.figure(figsize=(8,4))\n",
    "    plt.hist(d_listings[var], bins=50, density=False, alpha=0.5, edgecolor='white')\n",
    "    plt.xlabel('days', weight=\"bold\", fontsize=12)\n",
    "    plt.ylabel('', weight=\"bold\", fontsize=12)\n",
    "    plt.tick_params(axis='both', labelsize=12)\n",
    "    plt.title(title +'\\n', weight=\"bold\", fontsize=16);\n",
    "    plt.show()"
   ]
  },
  {
   "cell_type": "code",
   "execution_count": null,
   "metadata": {},
   "outputs": [],
   "source": [
    "hist('days_on_site', 'Age on Airbnb platform for properties in Sicily')"
   ]
  },
  {
   "cell_type": "code",
   "execution_count": null,
   "metadata": {},
   "outputs": [],
   "source": [
    "d_listings.loc[d_listings['last_review']=='', ['last_review']] = '1/1/2014'\n",
    "d_listings['days_from_last_review'] = (dt.datetime.now()-pd.to_datetime(d_listings['last_review'], format='%m/%d/%Y')).dt.days"
   ]
  },
  {
   "cell_type": "code",
   "execution_count": null,
   "metadata": {},
   "outputs": [],
   "source": [
    "hist('days_from_last_review', 'Days from last review')"
   ]
  },
  {
   "cell_type": "code",
   "execution_count": null,
   "metadata": {},
   "outputs": [],
   "source": [
    "d_listings.loc[d_listings['first_review']=='', ['first_review']] = '1/1/2014'\n",
    "d_listings['days_from_first_review'] = (dt.datetime.now()-pd.to_datetime(d_listings['first_review'], format='%m/%d/%Y')).dt.days\n",
    "hist('days_from_first_review', 'Days from first review')"
   ]
  },
  {
   "cell_type": "code",
   "execution_count": null,
   "metadata": {},
   "outputs": [],
   "source": [
    "quantitative = quantitative + ['days_on_site', 'days_from_first_review', 'days_from_last_review']"
   ]
  },
  {
   "cell_type": "markdown",
   "metadata": {},
   "source": [
    "## 4. Correlations"
   ]
  },
  {
   "cell_type": "markdown",
   "metadata": {},
   "source": [
    "By studying the correlations, we'll keep only features that are not redundant(highly correlated with some other features)."
   ]
  },
  {
   "cell_type": "markdown",
   "metadata": {},
   "source": [
    "### 4.1 Numerical data correlations"
   ]
  },
  {
   "cell_type": "code",
   "execution_count": null,
   "metadata": {
    "scrolled": false
   },
   "outputs": [],
   "source": [
    "correlation_network(d_listings[quantitative+['price']])"
   ]
  },
  {
   "cell_type": "markdown",
   "metadata": {},
   "source": [
    "**NB: the length of the edges does not represent the magnitude of the correlation, hence take a look at the table below for a precise description of correlations!**"
   ]
  },
  {
   "cell_type": "code",
   "execution_count": null,
   "metadata": {},
   "outputs": [],
   "source": [
    "corr = d_listings[quantitative].corr()\n",
    "corr.style.background_gradient(cmap='YlGnBu') "
   ]
  },
  {
   "cell_type": "code",
   "execution_count": null,
   "metadata": {},
   "outputs": [],
   "source": [
    "## numerical features to keep\n",
    "quantitative_to_keep = ['host_response_rate', 'host_acceptance_rate', 'host_listings_count', \n",
    "                        'accommodates', 'minimum_nights', 'maximum_nights', 'availability_60', \n",
    "                        'availability_365', 'number_of_reviews', 'number_of_reviews_l30d',\n",
    "                        'review_scores_rating', 'review_scores_accuracy', 'review_scores_cleanliness', 'review_scores_checkin',\n",
    "                        'review_scores_communication', 'review_scores_location', 'review_scores_value', 'reviews_per_month',\n",
    "                        'calculated_host_listings_count', \n",
    "                        'calculated_host_listings_count_private_rooms', 'calculated_host_listings_count_shared_rooms',\n",
    "                        'days_on_site', 'days_from_last_review']"
   ]
  },
  {
   "cell_type": "code",
   "execution_count": null,
   "metadata": {},
   "outputs": [],
   "source": [
    "print('**Re-check correlations of features kept**')\n",
    "corr = d_listings[quantitative_to_keep + ['price']].corr()\n",
    "plt.figure(figsize=(14, 8))\n",
    "sns.heatmap(corr, cmap=\"YlGnBu\")\n",
    "plt.tick_params(axis='both', labelsize=12) \n",
    "plt.xticks(rotation=85)\n",
    "plt.show()"
   ]
  },
  {
   "cell_type": "markdown",
   "metadata": {},
   "source": [
    "The reviews are quite correlated, but they might make the difference further 😬"
   ]
  },
  {
   "cell_type": "markdown",
   "metadata": {
    "_cell_guid": "dbce817c-5a69-de75-eff1-82a7d5307fd2"
   },
   "source": [
    "<!-- Some independent variables look like good candidates for log transformation: TotalBsmtSF, KitchenAbvGr, LotFrontage, LotArea and others. While ganining on regression transformation will smooth out some irregularities which could be important like large amount of houses with 0 2ndFlrSF. Such irregularities are good candidates for feature construction. -->"
   ]
  },
  {
   "cell_type": "markdown",
   "metadata": {
    "_cell_guid": "9facce0e-ba89-cb9d-b2aa-8e1aeea438af"
   },
   "source": [
    "### 4.2 Categorical data\n",
    "\n",
    "With qualitative variables we can implement two methods:\n",
    "- check distribution of price with respect to variable values and enumerate them\n",
    "- create dummy variable for each possible category"
   ]
  },
  {
   "cell_type": "code",
   "execution_count": null,
   "metadata": {
    "scrolled": false
   },
   "outputs": [],
   "source": [
    "print('**what we have as categorical data: **')\n",
    "d_listings[qualitative].head(1).style.hide_index()"
   ]
  },
  {
   "cell_type": "markdown",
   "metadata": {},
   "source": [
    "![](https://media.giphy.com/media/XbmdBop1Fn6J3dT6U6/giphy.gif)"
   ]
  },
  {
   "cell_type": "markdown",
   "metadata": {},
   "source": [
    "The things are a bit messy, so let's see what we can keep.\n",
    "<br>\n",
    "First, we'll remove duplicated features and features with too many categories."
   ]
  },
  {
   "cell_type": "code",
   "execution_count": null,
   "metadata": {
    "scrolled": false
   },
   "outputs": [],
   "source": [
    "print('unique values for: ')\n",
    "for c in qualitative:\n",
    "    print('-> ' + str(c) + ': ' + str(d_listings[c].nunique()))"
   ]
  },
  {
   "cell_type": "markdown",
   "metadata": {},
   "source": [
    "Relabel some variables and group less common category values into \"other\"."
   ]
  },
  {
   "cell_type": "code",
   "execution_count": null,
   "metadata": {},
   "outputs": [],
   "source": [
    "d_listings.loc[d_listings.host_has_profile_pic=='t', 'host_profile_pic'] = 'true'\n",
    "d_listings.loc[d_listings.host_has_profile_pic=='f', 'host_profile_pic'] = 'false'\n",
    "d_listings.loc[d_listings.host_has_profile_pic.isna(), 'host_profile_pic'] = 'NA'"
   ]
  },
  {
   "cell_type": "code",
   "execution_count": null,
   "metadata": {},
   "outputs": [],
   "source": [
    "d_listings.loc[d_listings.has_availability=='t', 'has_availability_'] = 'true'\n",
    "d_listings.loc[d_listings.has_availability=='f', 'has_availability_'] = 'false'\n",
    "d_listings.loc[d_listings.has_availability.isna(), 'has_availability_'] = 'NA'"
   ]
  },
  {
   "cell_type": "code",
   "execution_count": null,
   "metadata": {},
   "outputs": [],
   "source": [
    "d_listings.loc[d_listings.instant_bookable=='t', 'instant_bookable_'] = 'true'\n",
    "d_listings.loc[d_listings.instant_bookable=='f', 'instant_bookable_'] = 'false'\n",
    "d_listings.loc[d_listings.instant_bookable.isna(), 'instant_bookable_'] = 'NA'"
   ]
  },
  {
   "cell_type": "code",
   "execution_count": null,
   "metadata": {
    "scrolled": false
   },
   "outputs": [],
   "source": [
    "b_types = value_cnts(d_listings, ['bathrooms_text'])[:8]['bathrooms_text'].to_list()\n",
    "d_listings.loc[d_listings.bathrooms_text.isin(b_types)!=True,'bathrooms_text_clean'] = 'Other'\n",
    "d_listings.loc[d_listings.bathrooms_text.isin(b_types)==True,'bathrooms_text_clean'] = d_listings['bathrooms_text']\n",
    "value_cnts(d_listings, ['bathrooms_text_clean'])"
   ]
  },
  {
   "cell_type": "code",
   "execution_count": null,
   "metadata": {},
   "outputs": [],
   "source": [
    "qualitative = ['host_response_time', 'host_type', 'host_identity', 'host_profile_pic', \n",
    "               'bathrooms_text_clean', 'room_type', 'property_type', 'instant_bookable_', 'has_availability_']"
   ]
  },
  {
   "cell_type": "code",
   "execution_count": null,
   "metadata": {
    "scrolled": true
   },
   "outputs": [],
   "source": [
    "d_listings[qualitative].head(1)"
   ]
  },
  {
   "cell_type": "markdown",
   "metadata": {},
   "source": [
    "### Prices by category values"
   ]
  },
  {
   "cell_type": "markdown",
   "metadata": {},
   "source": [
    "Now is the moment to check the distribution of price with respect to the values of qualitative features remained. "
   ]
  },
  {
   "cell_type": "code",
   "execution_count": null,
   "metadata": {
    "scrolled": false
   },
   "outputs": [],
   "source": [
    "for c in qualitative:\n",
    "    d_listings[c] = d_listings[c].astype('category')\n",
    "    if d_listings[c].isnull().any():\n",
    "        d_listings[c] = d_listings[c].cat.add_categories(['NA'])\n",
    "        d_listings[c] = d_listings[c].fillna('NA')\n",
    "\n",
    "def boxplot(x, y, **kwargs):\n",
    "    sns.boxplot(x=x, y=y, showfliers=False)\n",
    "    x=plt.xticks(rotation=90)\n",
    "    \n",
    "f = pd.melt(d_listings, id_vars=['price'], value_vars=qualitative)\n",
    "g = sns.FacetGrid(f, col=\"variable\",  col_wrap=2, sharex=False, sharey=False, height=7)\n",
    "g = g.map(boxplot, \"value\", \"price\")"
   ]
  },
  {
   "cell_type": "markdown",
   "metadata": {},
   "source": [
    "Some categories seem to be more diverse with respect to the price than others: \n",
    "- the bathrooms : 3/4 baths means definitely an increase in price; \n",
    "- the types of baths in 'Other' varies a lot, but there are >=5 baths or some shared baths\n",
    "- an entire villa is also more expensive (not a surprise either)\n",
    "- also, when the host responds within a day, the prices go up 🤑 "
   ]
  },
  {
   "cell_type": "markdown",
   "metadata": {},
   "source": [
    "### Categorical variable's impact on price"
   ]
  },
  {
   "cell_type": "markdown",
   "metadata": {},
   "source": [
    "We'll add back some categorical variables, as this won't affect the plots."
   ]
  },
  {
   "cell_type": "code",
   "execution_count": null,
   "metadata": {},
   "outputs": [],
   "source": [
    "qualitative = qualitative + ['neighbourhood', 'host_neighbourhood', 'host_verifications']"
   ]
  },
  {
   "cell_type": "markdown",
   "metadata": {
    "_cell_guid": "0285c23b-a0e1-13b5-547e-0e9a4a5dc292"
   },
   "source": [
    "Here is quick estimation of how price is influenced by the categorical variables. For each variable, prices are partitioned to distinct sets based on category values. Then we check with ANOVA test if sets have similar means. If variable has minor impact, then set means should be equal. Decreasing pval is sign of increasing diversity in partitions."
   ]
  },
  {
   "cell_type": "code",
   "execution_count": null,
   "metadata": {
    "_cell_guid": "23b33272-5ded-73b1-25d3-61df5648efa0",
    "scrolled": false
   },
   "outputs": [],
   "source": [
    "a = anovaf(d_listings, qualitative + ['neighbourhood'])\n",
    "a['disparity'] = np.log(1./a['pval'].values)\n",
    "plt.figure(figsize=(12,6))\n",
    "sns.barplot(data=a, y='feature', x='disparity')\n",
    "plt.xticks(rotation=90)\n",
    "plt.xlabel('disparity', weight=\"bold\", fontsize=12)\n",
    "plt.ylabel('')\n",
    "plt.tick_params(axis='both', labelsize=12)\n",
    "plt.title('Influence of categorical variables on price\\n', weight=\"bold\", fontsize=16);\n",
    "plt.show()"
   ]
  },
  {
   "cell_type": "markdown",
   "metadata": {},
   "source": [
    "Seems like the property type and the neighbourhood are the most important categorical features, in terms of impact in price. It's not a big discovery, but we've seen some math with the occasion. 🤓"
   ]
  },
  {
   "cell_type": "markdown",
   "metadata": {},
   "source": [
    "### Target encoding\n",
    "\n",
    "We'll encode categorical variables by mean price of category values."
   ]
  },
  {
   "cell_type": "code",
   "execution_count": null,
   "metadata": {},
   "outputs": [],
   "source": [
    "qual_encoded = []\n",
    "for q in qualitative:  \n",
    "    encode(d_listings, q)\n",
    "    qual_encoded.append(q+'_E')\n",
    "print(qual_encoded)"
   ]
  },
  {
   "cell_type": "markdown",
   "metadata": {
    "_cell_guid": "1cbd8c10-44fe-73c3-6fb6-338769c1d592"
   },
   "source": [
    "Now qualitative variables get encoded according to ordering based on mean of price."
   ]
  },
  {
   "cell_type": "markdown",
   "metadata": {
    "_cell_guid": "f6492edc-bddf-1610-9b42-5a5f7652a691"
   },
   "source": [
    "### More correlations\n",
    "\n",
    "Generally to reduce confunding only variables uncorrelated with each other should be added to regression models (which are correlated with price)."
   ]
  },
  {
   "cell_type": "code",
   "execution_count": null,
   "metadata": {
    "_cell_guid": "5d8f0872-1bcc-55e0-2f5a-b78086b8906b"
   },
   "outputs": [],
   "source": [
    "features = quantitative_to_keep + qual_encoded\n",
    "spearman(d_listings, features, 'price')"
   ]
  },
  {
   "cell_type": "markdown",
   "metadata": {
    "_cell_guid": "6625d798-2dad-50a6-7b38-7e354856ed7c"
   },
   "source": [
    "**Spearman correlation is better to work with in this case because it picks up relationships between variables even when they are nonlinear**\n",
    "\n",
    "The main criterions in establishing Airbnb home prices are:\n",
    "- accomodates\n",
    "- bathrooms encoded\n",
    "- property types encoded\n",
    "- neighbourhood encoded\n",
    "- number of reviews"
   ]
  },
  {
   "cell_type": "markdown",
   "metadata": {
    "_cell_guid": "e8d4811e-779d-1b65-62c1-42e3f6323269"
   },
   "source": [
    "## 5. Another way to determine feature's impact on price\n",
    "\n",
    "We'll use the features built up until now to make a model that predicts the price.\n",
    "<br>\n",
    "Then we'll plot the feature importance of the model to see which features affects most the price. "
   ]
  },
  {
   "cell_type": "code",
   "execution_count": null,
   "metadata": {},
   "outputs": [],
   "source": [
    "# !pip install catboost\n",
    "import catboost as cb"
   ]
  },
  {
   "cell_type": "code",
   "execution_count": null,
   "metadata": {},
   "outputs": [],
   "source": [
    "features = quantitative_to_keep + qualitative\n",
    "print('**features to be used in catboost model**')\n",
    "features"
   ]
  },
  {
   "cell_type": "code",
   "execution_count": null,
   "metadata": {},
   "outputs": [],
   "source": [
    "train = d_listings[features]\n",
    "train.head(1)"
   ]
  },
  {
   "cell_type": "code",
   "execution_count": null,
   "metadata": {},
   "outputs": [],
   "source": [
    "target = d_listings['price']\n",
    "target.head(1)"
   ]
  },
  {
   "cell_type": "code",
   "execution_count": null,
   "metadata": {
    "scrolled": true
   },
   "outputs": [],
   "source": [
    "model = cb.CatBoostRegressor(cat_features=qualitative)\n",
    "model.fit(train, target, plot=False)\n",
    "# model.save_model('cb_model')"
   ]
  },
  {
   "cell_type": "code",
   "execution_count": null,
   "metadata": {},
   "outputs": [],
   "source": [
    "def plot_feat_imp(model):\n",
    "    feature_importance_df = pd.DataFrame(model.get_feature_importance(prettified=True))\n",
    "    plt.figure(figsize=(10, 12))\n",
    "    sns.barplot(x=\"Importances\", y=\"Feature Id\", data=feature_importance_df)\n",
    "    plt.title('CatBoost features importance\\n', weight=\"bold\", fontsize=16) \n",
    "    plt.xlabel('importance', weight=\"bold\", fontsize=12)\n",
    "    plt.ylabel('')\n",
    "    plt.tick_params(axis='both', labelsize=12)    \n",
    "    plt.show()\n",
    "\n",
    "plot_feat_imp(model)"
   ]
  },
  {
   "cell_type": "markdown",
   "metadata": {},
   "source": [
    "**The catboost model gives a new perspective about the features and their importance in predicting the price.** \n",
    "<br>\n",
    "I could also use the log of the skewed features and target, but is not the main scope of this analysis. \n",
    "<br>\n",
    "Some other transformations could be done for the model, like using the target encodings above, not the default ones of catboost model."
   ]
  },
  {
   "cell_type": "markdown",
   "metadata": {},
   "source": [
    "## 6. Show me the future\n",
    "\n",
    "We'll use now another data available, the calendar of prices. "
   ]
  },
  {
   "cell_type": "code",
   "execution_count": null,
   "metadata": {},
   "outputs": [],
   "source": [
    "calendar = d_calendar\n",
    "calendar.head().style.hide_index()"
   ]
  },
  {
   "cell_type": "code",
   "execution_count": null,
   "metadata": {},
   "outputs": [],
   "source": [
    "calendar.dtypes"
   ]
  },
  {
   "cell_type": "code",
   "execution_count": null,
   "metadata": {},
   "outputs": [],
   "source": [
    "calendar.price = calendar.price.str.replace(\",\",\"\")\n",
    "calendar['price'] = pd.to_numeric(calendar['price'].str.strip('$'))\n",
    "calendar['price'].describe().T"
   ]
  },
  {
   "cell_type": "code",
   "execution_count": null,
   "metadata": {},
   "outputs": [],
   "source": [
    "calendar['date'] = pd.to_datetime(calendar['date'], format = '%Y-%m-%d')"
   ]
  },
  {
   "cell_type": "markdown",
   "metadata": {},
   "source": [
    "### 6.1 Listings available by day"
   ]
  },
  {
   "cell_type": "code",
   "execution_count": null,
   "metadata": {},
   "outputs": [],
   "source": [
    "sum_available = calendar[(calendar.available==\"t\") \n",
    "                         & (calendar.date>dt.datetime.now())].groupby(['date']).size().to_frame(name='available').reset_index()\n",
    "sum_available['weekday'] = sum_available['date'].dt.day_name()\n",
    "sum_available = sum_available.set_index('date')"
   ]
  },
  {
   "cell_type": "code",
   "execution_count": null,
   "metadata": {},
   "outputs": [],
   "source": [
    "sum_available.iplot(y='available', mode = 'lines', xTitle = 'Date', yTitle = 'number of listings available',\\\n",
    "                   text='weekday', title = 'Number of listings available by date')"
   ]
  },
  {
   "cell_type": "code",
   "execution_count": null,
   "metadata": {},
   "outputs": [],
   "source": [
    "# Image(filename = \"/home/jovyan/work/analysis/DSNanodegree/Sicilia/pics/listings_calendar.png\", unconfined=True)"
   ]
  },
  {
   "cell_type": "markdown",
   "metadata": {},
   "source": [
    "There are plenty of homes available until 2022! \n",
    "We must only pray for covid to go away! \n",
    "<br>\n",
    "![](https://media.giphy.com/media/3o6MbhYjXivHHMrLSE/giphy.gif)"
   ]
  },
  {
   "cell_type": "markdown",
   "metadata": {},
   "source": [
    "### 6.2 Average price by day"
   ]
  },
  {
   "cell_type": "markdown",
   "metadata": {},
   "source": [
    "The property types are quite diverse, so we'll look only at those for two people."
   ]
  },
  {
   "cell_type": "code",
   "execution_count": null,
   "metadata": {},
   "outputs": [],
   "source": [
    "acc = d_listings[['id', 'accommodates']].copy().rename(columns={'id':'listing_id'})"
   ]
  },
  {
   "cell_type": "code",
   "execution_count": null,
   "metadata": {},
   "outputs": [],
   "source": [
    "calendar2 = pd.merge(calendar, acc, on = \"listing_id\", how = \"left\")"
   ]
  },
  {
   "cell_type": "code",
   "execution_count": null,
   "metadata": {},
   "outputs": [],
   "source": [
    "average_price = calendar2[(calendar2.available == \"t\") & (calendar2.accommodates == 2) \n",
    "                          & (calendar.date>dt.datetime.now())].groupby(['date']).mean().astype(np.int64).reset_index()\n",
    "average_price['weekday'] = average_price['date'].dt.day_name()\n",
    "average_price = average_price.set_index('date')\n",
    "\n",
    "fig = average_price.iplot(y='price', mode='lines', xTitle='Date', yTitle='Price',\n",
    "    text='weekday', title='Average price of available 2 persons accommodation by date')"
   ]
  },
  {
   "cell_type": "code",
   "execution_count": null,
   "metadata": {},
   "outputs": [],
   "source": [
    "# Image(filename = \"/home/jovyan/work/analysis/DSNanodegree/Sicilia/pics/price_calendar.png\", unconfined=True)"
   ]
  },
  {
   "cell_type": "markdown",
   "metadata": {},
   "source": [
    "Prices do go up a bit during summer, but I wouldn't pay more to be more uncomfortable during the hot summer days of Sicily 🌞"
   ]
  },
  {
   "cell_type": "markdown",
   "metadata": {},
   "source": [
    "## 7. What people say about Airbnb homes in Sicily\n",
    "\n",
    "We'll use now the reviews dataset."
   ]
  },
  {
   "cell_type": "code",
   "execution_count": null,
   "metadata": {},
   "outputs": [],
   "source": [
    "d_reviews.head(5).style.hide_index()"
   ]
  },
  {
   "cell_type": "markdown",
   "metadata": {},
   "source": [
    "### 7.1 Hosts with most reviews"
   ]
  },
  {
   "cell_type": "code",
   "execution_count": null,
   "metadata": {},
   "outputs": [],
   "source": [
    "host_names = d_listings[['id', 'host_name', 'neighbourhood']].copy().rename(columns={'id':'listing_id'})\n",
    "reviews2 = pd.merge(d_reviews, host_names, on = \"listing_id\", how = \"left\")\n",
    "host_reviews = reviews2.groupby(['listing_id', 'host_name', 'neighbourhood']).size().sort_values(ascending=False).to_frame(name = \"number_of_reviews\").reset_index()\n",
    "host_reviews[['host_name', 'neighbourhood', 'number_of_reviews']].head(10).style.hide_index().background_gradient(cmap='Pastel1_r')  "
   ]
  },
  {
   "cell_type": "code",
   "execution_count": null,
   "metadata": {},
   "outputs": [],
   "source": [
    "top_host_review = d_listings.loc[d_listings['id'].isin(list(host_reviews.head(10)['listing_id'])), ].copy()[['id','longitude', 'latitude']]\n",
    "top_host_review.rename(columns={'id':'listing_id'}, inplace=True)\n",
    "records = top_host_review[['latitude', 'longitude']].to_records(index=False)\n",
    "coords = list(records)\n",
    "fm = folium.Map(d_listings[['latitude', 'longitude']].mean().to_list(), zoom_start=8)\n",
    "for coord in coords:\n",
    "    folium.Marker(location=[coord[0], coord[1]], fill_color='#43d9de', radius=8).add_to(fm)\n",
    "display(fm)"
   ]
  },
  {
   "cell_type": "markdown",
   "metadata": {},
   "source": [
    "### 7.2 Take me to the clouds"
   ]
  },
  {
   "cell_type": "markdown",
   "metadata": {},
   "source": [
    "Some basic pre-processing of reviews."
   ]
  },
  {
   "cell_type": "code",
   "execution_count": null,
   "metadata": {},
   "outputs": [],
   "source": [
    "from nltk.corpus import stopwords\n",
    "\n",
    "#take out empty comments (530)\n",
    "d_reviews = d_reviews[d_reviews['comments'].notnull()]\n",
    "\n",
    "#remove numbers\n",
    "d_reviews['comments'] = d_reviews['comments'].str.replace('\\d+', '') \n",
    "#all to lowercase\n",
    "d_reviews['comments'] = d_reviews['comments'].str.lower()\n",
    "#remove windows new line\n",
    "d_reviews['comments'] = d_reviews['comments'].str.replace('\\r\\n', \"\")\n",
    "#remove stopwords (from nltk library)\n",
    "\n",
    "for l in [\"english\", \"italian\", \"french\"]:\n",
    "    stop_words = stopwords.words(l)\n",
    "    d_reviews['comments'] = d_reviews['comments'].apply(lambda x: \" \".join([i for i in x.split() \n",
    "                                                      if i not in (stop_words)]))    \n",
    "\n",
    "# remove punctuation\n",
    "d_reviews['comments'] = d_reviews['comments'].str.replace('[^\\w\\s]',\" \")\n",
    "# replace x spaces by one space\n",
    "d_reviews['comments'] = d_reviews['comments'].str.replace('\\s+', ' ')\n",
    "\n",
    "d_reviews.comments.values[2] #print same comments again"
   ]
  },
  {
   "cell_type": "code",
   "execution_count": null,
   "metadata": {},
   "outputs": [],
   "source": [
    "from sklearn.feature_extraction.text import CountVectorizer"
   ]
  },
  {
   "cell_type": "code",
   "execution_count": null,
   "metadata": {},
   "outputs": [],
   "source": [
    "texts = d_reviews.comments.tolist()\n",
    "vec = CountVectorizer().fit(texts)\n",
    "bag_of_words = vec.transform(texts)\n",
    "sum_words = bag_of_words.sum(axis=0)\n",
    "words_freq = [(word, sum_words[0, idx]) for word, idx in vec.vocabulary_.items()]\n",
    "\n",
    "cvec_df = pd.DataFrame.from_records(words_freq, columns= ['words', 'counts']).sort_values(by=\"counts\", ascending=False)\n",
    "cvec_df.head(10)"
   ]
  },
  {
   "cell_type": "code",
   "execution_count": null,
   "metadata": {},
   "outputs": [],
   "source": [
    "cvec_dict = dict(zip(cvec_df.words, cvec_df.counts))\n",
    "wordcloud = WordCloud(width=800, height=400, background_color='salmon', colormap='Pastel1', collocations=False)\n",
    "wordcloud.generate_from_frequencies(frequencies=cvec_dict)\n",
    "plt.figure( figsize=(20,10) )\n",
    "plt.imshow(wordcloud, interpolation=\"bilinear\")\n",
    "plt.axis(\"off\")\n",
    "plt.show()"
   ]
  },
  {
   "cell_type": "markdown",
   "metadata": {},
   "source": [
    "### 7.3 Positive/negative reviews"
   ]
  },
  {
   "cell_type": "code",
   "execution_count": null,
   "metadata": {},
   "outputs": [],
   "source": [
    "%%time\n",
    "\n",
    "rows=[]\n",
    "for sentence in d_reviews['comments'].values:\n",
    "    ss = sid.polarity_scores(sentence)\n",
    "    rows.append(list(ss.values())) \n",
    "    \n",
    "df_polarity = pd.DataFrame(rows, columns=[\"neg\", \"neu\", \"pos\", \"compound\"])   \n",
    "df_polarity.head()"
   ]
  },
  {
   "cell_type": "code",
   "execution_count": null,
   "metadata": {
    "scrolled": false
   },
   "outputs": [],
   "source": [
    "sid = SentimentIntensityAnalyzer()\n",
    "for sentence in d_reviews['comments'].values[:5]:\n",
    "    print(sentence)\n",
    "    ss = sid.polarity_scores(sentence)\n",
    "    for k in sorted(ss):\n",
    "        print('{0}: {1}, '.format(k, ss[k]), end='')\n",
    "    print()"
   ]
  },
  {
   "cell_type": "markdown",
   "metadata": {},
   "source": [
    "### Positive/negative scores distribution"
   ]
  },
  {
   "cell_type": "code",
   "execution_count": null,
   "metadata": {},
   "outputs": [],
   "source": [
    "neutral = df_polarity['neu']\n",
    "positive = df_polarity['pos'] \n",
    "negative = df_polarity['neg']"
   ]
  },
  {
   "cell_type": "code",
   "execution_count": null,
   "metadata": {},
   "outputs": [],
   "source": [
    "plt.figure(figsize=(8,4))\n",
    "plt.hist(neutral, bins=50, density=False, alpha=0.5, edgecolor='white')\n",
    "plt.tick_params(axis='both', labelsize=12)\n",
    "plt.title('Neutral scores of english reviews\\n', weight=\"bold\", fontsize=16);\n",
    "plt.show()"
   ]
  },
  {
   "cell_type": "code",
   "execution_count": null,
   "metadata": {},
   "outputs": [],
   "source": [
    "plt.figure(figsize=(8,4))\n",
    "plt.hist(positive, bins=50, facecolor = pink[2], density=False, alpha=0.5, edgecolor='white')\n",
    "plt.tick_params(axis='both', labelsize=12)\n",
    "plt.title('Positive scores of english reviews\\n', weight=\"bold\", fontsize=16);\n",
    "plt.show()"
   ]
  },
  {
   "cell_type": "code",
   "execution_count": null,
   "metadata": {},
   "outputs": [],
   "source": [
    "plt.figure(figsize=(8,4))\n",
    "plt.hist(negative, bins=50, facecolor = bo[0], density=False, alpha=0.5, edgecolor='white')\n",
    "plt.tick_params(axis='both', labelsize=12)\n",
    "plt.title('Negative scores of english reviews\\n', weight=\"bold\", fontsize=16);\n",
    "plt.show()"
   ]
  },
  {
   "cell_type": "markdown",
   "metadata": {},
   "source": [
    "## 8. Take aways\n",
    "\n",
    "### Some conclusions\n",
    "\n",
    "- we did not discover much with this analysis, but I enjoyed remembering some places I've been to and playing with the graphics and images above\n",
    "- Sicily has a lot of Airbnb properties all over the island, at all preferred prices\n",
    "- you'll pay more for more baths and bedrooms (not a surprise)\n",
    "- the most expensive neighbourhoods are the ones loved by tourists (like Taormina)\n",
    "- the cheapest are Gela and Catania(big city with lots of homes available)\n",
    "- reviews are an important factor in price\n",
    "- prices go up a bit during summer\n",
    "- most properties are available until 2022, but this is probably due to covid restrictions :("
   ]
  },
  {
   "cell_type": "markdown",
   "metadata": {},
   "source": [
    "### Some TODOs\n",
    "\n",
    "When I'll have more time available:\n",
    "- analyse more the reviews\n",
    "- make more models to predict the price of a property\n",
    "- **go to Sicily and eat a \"cannolo siciliano\"!!!**"
   ]
  },
  {
   "cell_type": "code",
   "execution_count": null,
   "metadata": {},
   "outputs": [],
   "source": [
    "print(\"**cannolo siciliano**\")\n",
    "Image(filename = \"/home/jovyan/work/analysis/DSNanodegree/Sicilia/pics/DSC07063.JPG\", width = 400, height = 600)"
   ]
  },
  {
   "cell_type": "markdown",
   "metadata": {},
   "source": [
    "### Thanks for reading! 😇"
   ]
  },
  {
   "cell_type": "markdown",
   "metadata": {},
   "source": [
    "### Credits\n",
    "\n",
    "I did not ask for permission, but I've used some code from notebooks available on kaggle:\n",
    "<br>\n",
    "- <a href=\"https://www.kaggle.com/dgawlik/house-prices-eda\">House prices EDA</a>.\n",
    "<br>\n",
    "- <a href=\"https://www.kaggle.com/homayoonkhadivi/innovative-3d-visualization-eda-airbnb-dataset\">innovative-3d-visualization-eda-airbnb-dataset</a>\n",
    "<br>\n",
    "- <a href=\"https://www.kaggle.com/residentmario/sentiment-analysis-and-collocation-of-reviews\">sentiment analysis and collocation of reviews</a>\n",
    "<br>\n",
    "- <a href=\"https://www.kaggle.com/erikbruin/airbnb-the-amsterdam-story-with-interactive-maps\">Airbnb: The Amsterdam story with interactive maps</a>"
   ]
  },
  {
   "cell_type": "code",
   "execution_count": null,
   "metadata": {},
   "outputs": [],
   "source": [
    "from IPython.display import HTML\n",
    "\n",
    "HTML('''<script>\n",
    "code_show=true; \n",
    "function code_toggle() {\n",
    " if (code_show){\n",
    " $('div.input').hide();\n",
    " } else {\n",
    " $('div.input').show();\n",
    " }\n",
    " code_show = !code_show\n",
    "} \n",
    "$( document ).ready(code_toggle);\n",
    "</script>\n",
    "<form action=\"javascript:code_toggle()\"><input type=\"submit\" value=\"code.\"></form>''')"
   ]
  }
 ],
 "metadata": {
  "_change_revision": 129,
  "_is_fork": false,
  "kernelspec": {
   "display_name": "Python 3",
   "language": "python",
   "name": "python3"
  },
  "language_info": {
   "codemirror_mode": {
    "name": "ipython",
    "version": 3
   },
   "file_extension": ".py",
   "mimetype": "text/x-python",
   "name": "python",
   "nbconvert_exporter": "python",
   "pygments_lexer": "ipython3",
   "version": "3.7.4"
  }
 },
 "nbformat": 4,
 "nbformat_minor": 1
}